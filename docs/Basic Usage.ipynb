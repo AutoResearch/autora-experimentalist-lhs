{
 "cells": [
  {
   "attachments": {},
   "cell_type": "markdown",
   "metadata": {
    "collapsed": false
   },
   "source": [
    "# Basic Usage\n"
   ]
  },
  {
   "cell_type": "code",
   "execution_count": null,
   "metadata": {
    "collapsed": false
   },
   "outputs": [],
   "source": "from autora.experimentalist.lhs import sample"
  },
  {
   "metadata": {},
   "cell_type": "code",
   "outputs": [],
   "execution_count": null,
   "source": [
    "import itertools\n",
    "import pandas as pd\n",
    "import numpy as np\n",
    "import matplotlib.pyplot as plt\n",
    "\n",
    "# Define the full range of conditions using linspace\n",
    "a_values = np.linspace(0, 1, 100)\n",
    "b_values = np.linspace(0, 1, 100)\n",
    "c_values = np.linspace(0, 1, 100)\n",
    "\n",
    "# Create a large pool of conditions by taking the Cartesian product\n",
    "condition_pool = pd.DataFrame(list(itertools.product(a_values, b_values, c_values)), columns=['a', 'b', 'c'])\n",
    "\n",
    "# Initial reference conditions (pre-sampled points)\n",
    "reference_conditions = pd.DataFrame({\n",
    "    'a': [.1],\n",
    "    'b': [.1],\n",
    "    'c': [.1]\n",
    "})\n",
    "\n",
    "# Perform successive sampling and plot the updates\n",
    "fig = plt.figure(figsize=(10, 8))\n",
    "ax = fig.add_subplot(111, projection='3d')\n",
    "\n",
    "# Plot initial reference conditions in red\n",
    "ax.scatter(reference_conditions['a'], reference_conditions['b'], reference_conditions['c'], color='red', s=100,\n",
    "           label=\"Reference Conditions\")\n",
    "for x, y, z in zip(reference_conditions['a'], reference_conditions['b'], reference_conditions['c']):\n",
    "    ax.plot([x, x], [y, y], [0, z], 'k--', alpha=0.7)\n",
    "\n",
    "# Successively add samples\n",
    "num_iterations = 10\n",
    "for i in range(num_iterations):\n",
    "\n",
    "    new_samples = sample(condition_pool, reference_conditions, num_samples=1)\n",
    "    reference_conditions = pd.concat([reference_conditions, new_samples], ignore_index=True)\n",
    "\n",
    "    # Plot newly added samples\n",
    "    ax.scatter(new_samples['a'], new_samples['b'], new_samples['c'], s=50, label=f\"Samples {i + 1}\")\n",
    "    for x, y, z in zip(new_samples['a'], new_samples['b'], new_samples['c']):\n",
    "        ax.plot([x, x], [y, y], [0, z], 'k--', alpha=0.7)\n",
    "\n",
    "ax.set_xlabel(\"a values\")\n",
    "ax.set_ylabel(\"b values\")\n",
    "ax.set_zlabel(\"c values\")\n",
    "ax.set_title(\"Successive Sampling of Conditions in 3D Space\")\n",
    "ax.legend()\n",
    "plt.show()"
   ]
  },
  {
   "cell_type": "markdown",
   "metadata": {},
   "source": []
  }
 ],
 "metadata": {
  "kernelspec": {
   "display_name": "Python 3",
   "language": "python",
   "name": "python3"
  },
  "language_info": {
   "codemirror_mode": {
    "name": "ipython",
    "version": 2
   },
   "file_extension": ".py",
   "mimetype": "text/x-python",
   "name": "python",
   "nbconvert_exporter": "python",
   "pygments_lexer": "ipython2",
   "version": "2.7.6"
  }
 },
 "nbformat": 4,
 "nbformat_minor": 0
}
